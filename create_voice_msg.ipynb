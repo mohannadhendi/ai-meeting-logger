{
 "cells": [
  {
   "cell_type": "markdown",
   "metadata": {},
   "source": [
    "##### create audio for testing ... "
   ]
  },
  {
   "cell_type": "code",
   "execution_count": 2,
   "metadata": {},
   "outputs": [
    {
     "name": "stdout",
     "output_type": "stream",
     "text": [
      "Test voice message saved as 'name provided'.\n"
     ]
    }
   ],
   "source": [
    "from gtts import gTTS # type: ignore\n",
    "\n",
    "# Define a test transcript\n",
    "test_text = \"Hi, this is Sarah from Acme Corp. Our team meeting on March 19, 2025 is scheduled from 3:15 PM to 4:45 PM, lasting approximately 1.5 hours. We will review project milestones, discuss upcoming deadlines, and allocate resources for the next quarter.\"\n",
    "\n",
    "# Convert text to speech\n",
    "tts = gTTS(text=test_text, lang=\"en\")\n",
    "\n",
    "# Save as an audio file\n",
    "tts.save(\"meeting_details.mp3\")\n",
    "\n",
    "print(\"Test voice message saved as 'name provided'.\")"
   ]
  },
  {
   "cell_type": "code",
   "execution_count": null,
   "metadata": {},
   "outputs": [],
   "source": []
  }
 ],
 "metadata": {
  "kernelspec": {
   "display_name": "Gen",
   "language": "python",
   "name": "python3"
  },
  "language_info": {
   "codemirror_mode": {
    "name": "ipython",
    "version": 3
   },
   "file_extension": ".py",
   "mimetype": "text/x-python",
   "name": "python",
   "nbconvert_exporter": "python",
   "pygments_lexer": "ipython3",
   "version": "3.12.4"
  }
 },
 "nbformat": 4,
 "nbformat_minor": 2
}
